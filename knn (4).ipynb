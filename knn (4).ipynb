{
 "cells": [
  {
   "cell_type": "code",
   "execution_count": 41,
   "id": "665a3220",
   "metadata": {
    "scrolled": true
   },
   "outputs": [],
   "source": [
    "import pandas as pd\n",
    "import numpy as np\n",
    "from scipy.sparse import csr_matrix\n",
    "from sklearn.neighbors import NearestNeighbors\n",
    "import joblib"
   ]
  },
  {
   "cell_type": "code",
   "execution_count": 42,
   "id": "9953e865",
   "metadata": {
    "scrolled": true
   },
   "outputs": [
    {
     "name": "stderr",
     "output_type": "stream",
     "text": [
      "C:\\Users\\ADMIN\\AppData\\Local\\Temp\\ipykernel_5148\\3476389009.py:1: FutureWarning: The error_bad_lines argument has been deprecated and will be removed in a future version. Use on_bad_lines in the future.\n",
      "\n",
      "\n",
      "  data=pd.read_csv(\"csv file1.csv\",error_bad_lines=False, encoding=\"latin-1\")\n",
      "b'Skipping line 45748: expected 10 fields, saw 11\\n'\n",
      "b'Skipping line 134013: expected 10 fields, saw 14\\n'\n",
      "b'Skipping line 267355: expected 10 fields, saw 15\\n'\n",
      "b'Skipping line 353041: expected 10 fields, saw 12\\n'\n",
      "b'Skipping line 441018: expected 10 fields, saw 11\\n'\n",
      "b'Skipping line 485619: expected 10 fields, saw 13\\n'\n",
      "b'Skipping line 662577: expected 10 fields, saw 16\\n'\n",
      "b'Skipping line 753251: expected 10 fields, saw 11\\n'\n",
      "b'Skipping line 840719: expected 10 fields, saw 15\\n'\n",
      "b'Skipping line 1065529: expected 10 fields, saw 14\\n'\n",
      "b'Skipping line 1242887: expected 10 fields, saw 11\\n'\n",
      "b'Skipping line 1329814: expected 10 fields, saw 14\\nSkipping line 1374246: expected 10 fields, saw 11\\n'\n",
      "b'Skipping line 1418531: expected 10 fields, saw 11\\n'\n",
      "b'Skipping line 1733642: expected 10 fields, saw 12\\n'\n",
      "b'Skipping line 1917237: expected 10 fields, saw 11\\n'\n",
      "b'Skipping line 2005182: expected 10 fields, saw 11\\n'\n",
      "C:\\Users\\ADMIN\\AppData\\Local\\Temp\\ipykernel_5148\\3476389009.py:1: DtypeWarning: Columns (3,5,9) have mixed types. Specify dtype option on import or set low_memory=False.\n",
      "  data=pd.read_csv(\"csv file1.csv\",error_bad_lines=False, encoding=\"latin-1\")\n"
     ]
    },
    {
     "data": {
      "text/html": [
       "<div>\n",
       "<style scoped>\n",
       "    .dataframe tbody tr th:only-of-type {\n",
       "        vertical-align: middle;\n",
       "    }\n",
       "\n",
       "    .dataframe tbody tr th {\n",
       "        vertical-align: top;\n",
       "    }\n",
       "\n",
       "    .dataframe thead th {\n",
       "        text-align: right;\n",
       "    }\n",
       "</style>\n",
       "<table border=\"1\" class=\"dataframe\">\n",
       "  <thead>\n",
       "    <tr style=\"text-align: right;\">\n",
       "      <th></th>\n",
       "      <th>City</th>\n",
       "      <th>Place</th>\n",
       "      <th>Review</th>\n",
       "      <th>Rating</th>\n",
       "      <th>Name</th>\n",
       "      <th>Date</th>\n",
       "      <th>Raw_Review</th>\n",
       "      <th>City.1</th>\n",
       "      <th>userId</th>\n",
       "      <th>Unnamed: 9</th>\n",
       "    </tr>\n",
       "  </thead>\n",
       "  <tbody>\n",
       "    <tr>\n",
       "      <th>0</th>\n",
       "      <td>Aamby Valley City</td>\n",
       "      <td>19 Degree North</td>\n",
       "      <td>aamby valley beautiful place clear blue skies ...</td>\n",
       "      <td>5</td>\n",
       "      <td>Anonymous</td>\n",
       "      <td>NaN</td>\n",
       "      <td>Aamby valley is a beautiful place with its cle...</td>\n",
       "      <td>Aamby Valley City</td>\n",
       "      <td>1.000</td>\n",
       "      <td>NaN</td>\n",
       "    </tr>\n",
       "    <tr>\n",
       "      <th>1</th>\n",
       "      <td>Aamby Valley City</td>\n",
       "      <td>19 Degree North</td>\n",
       "      <td>executed obt akshay thanx team thoroughly enjo...</td>\n",
       "      <td>4</td>\n",
       "      <td>Anonymous</td>\n",
       "      <td>NaN</td>\n",
       "      <td>Very well executed obt by Akshay.... Thanx as ...</td>\n",
       "      <td>Aamby Valley City</td>\n",
       "      <td>2.000</td>\n",
       "      <td>NaN</td>\n",
       "    </tr>\n",
       "    <tr>\n",
       "      <th>2</th>\n",
       "      <td>Aamby Valley City</td>\n",
       "      <td>19 Degree North</td>\n",
       "      <td>awesome experience atv tracts obstacles mainta...</td>\n",
       "      <td>5</td>\n",
       "      <td>Anonymous</td>\n",
       "      <td>NaN</td>\n",
       "      <td>Awesome experience at the ATV\\nTracts and obst...</td>\n",
       "      <td>Aamby Valley City</td>\n",
       "      <td>2.000</td>\n",
       "      <td>NaN</td>\n",
       "    </tr>\n",
       "    <tr>\n",
       "      <th>3</th>\n",
       "      <td>Aamby Valley City</td>\n",
       "      <td>19 Degree North</td>\n",
       "      <td>visited aamby valley yesterday short excursion...</td>\n",
       "      <td>4</td>\n",
       "      <td>Anonymous</td>\n",
       "      <td>NaN</td>\n",
       "      <td>we visited the Aamby Valley yesterday for shor...</td>\n",
       "      <td>Aamby Valley City</td>\n",
       "      <td>3.000</td>\n",
       "      <td>NaN</td>\n",
       "    </tr>\n",
       "    <tr>\n",
       "      <th>4</th>\n",
       "      <td>Aamby Valley City</td>\n",
       "      <td>19 Degree North</td>\n",
       "      <td>far mumbai place finest adventure places visit...</td>\n",
       "      <td>5</td>\n",
       "      <td>Anonymous</td>\n",
       "      <td>NaN</td>\n",
       "      <td>Not far from Mumbai, this place is one of the ...</td>\n",
       "      <td>Aamby Valley City</td>\n",
       "      <td>4.000</td>\n",
       "      <td>NaN</td>\n",
       "    </tr>\n",
       "  </tbody>\n",
       "</table>\n",
       "</div>"
      ],
      "text/plain": [
       "                City            Place  \\\n",
       "0  Aamby Valley City  19 Degree North   \n",
       "1  Aamby Valley City  19 Degree North   \n",
       "2  Aamby Valley City  19 Degree North   \n",
       "3  Aamby Valley City  19 Degree North   \n",
       "4  Aamby Valley City  19 Degree North   \n",
       "\n",
       "                                              Review Rating       Name Date  \\\n",
       "0  aamby valley beautiful place clear blue skies ...      5  Anonymous  NaN   \n",
       "1  executed obt akshay thanx team thoroughly enjo...      4  Anonymous  NaN   \n",
       "2  awesome experience atv tracts obstacles mainta...      5  Anonymous  NaN   \n",
       "3  visited aamby valley yesterday short excursion...      4  Anonymous  NaN   \n",
       "4  far mumbai place finest adventure places visit...      5  Anonymous  NaN   \n",
       "\n",
       "                                          Raw_Review             City.1  \\\n",
       "0  Aamby valley is a beautiful place with its cle...  Aamby Valley City   \n",
       "1  Very well executed obt by Akshay.... Thanx as ...  Aamby Valley City   \n",
       "2  Awesome experience at the ATV\\nTracts and obst...  Aamby Valley City   \n",
       "3  we visited the Aamby Valley yesterday for shor...  Aamby Valley City   \n",
       "4  Not far from Mumbai, this place is one of the ...  Aamby Valley City   \n",
       "\n",
       "   userId Unnamed: 9  \n",
       "0   1.000        NaN  \n",
       "1   2.000        NaN  \n",
       "2   2.000        NaN  \n",
       "3   3.000        NaN  \n",
       "4   4.000        NaN  "
      ]
     },
     "execution_count": 42,
     "metadata": {},
     "output_type": "execute_result"
    }
   ],
   "source": [
    "data=pd.read_csv(\"csv file1.csv\",error_bad_lines=False, encoding=\"latin-1\")\n",
    "data.head()"
   ]
  },
  {
   "cell_type": "code",
   "execution_count": 43,
   "id": "882d8a1d",
   "metadata": {},
   "outputs": [],
   "source": [
    "data=data.drop([\"Review\",\"Name\",\"Date\",\"Raw_Review\",\"City.1\",\"City\",\"Unnamed: 9\"],axis=1)\n",
    "data"
   ]
  },
  {
   "cell_type": "code",
   "execution_count": null,
   "id": "1b85cbe0",
   "metadata": {},
   "outputs": [],
   "source": [
    "data.isna().sum()"
   ]
  },
  {
   "cell_type": "code",
   "execution_count": 44,
   "id": "8afe1431",
   "metadata": {},
   "outputs": [],
   "source": [
    "data=data.dropna()\n"
   ]
  },
  {
   "cell_type": "code",
   "execution_count": 45,
   "id": "cbfaaff7",
   "metadata": {},
   "outputs": [],
   "source": [
    "data = data[~data.duplicated(subset=['userId', 'Place'], keep=False)]\n",
    "\n",
    "data.to_csv('cleaned_dataset.csv', index=False)\n"
   ]
  },
  {
   "cell_type": "code",
   "execution_count": 46,
   "id": "8204253e",
   "metadata": {},
   "outputs": [
    {
     "data": {
      "text/plain": [
       "(23224, 3)"
      ]
     },
     "execution_count": 46,
     "metadata": {},
     "output_type": "execute_result"
    }
   ],
   "source": [
    "data=pd.read_csv('cleaned_dataset.csv')\n",
    "data.shape"
   ]
  },
  {
   "cell_type": "code",
   "execution_count": 47,
   "id": "e90c555b",
   "metadata": {},
   "outputs": [
    {
     "data": {
      "text/plain": [
       "<bound method NDFrame._add_numeric_operations.<locals>.sum of 0        False\n",
       "1        False\n",
       "2        False\n",
       "3        False\n",
       "4        False\n",
       "         ...  \n",
       "23219    False\n",
       "23220    False\n",
       "23221    False\n",
       "23222    False\n",
       "23223    False\n",
       "Name: userId, Length: 23224, dtype: bool>"
      ]
     },
     "execution_count": 47,
     "metadata": {},
     "output_type": "execute_result"
    }
   ],
   "source": [
    "data[\"userId\"].isna().sum"
   ]
  },
  {
   "cell_type": "code",
   "execution_count": 48,
   "id": "8588dbdb",
   "metadata": {},
   "outputs": [
    {
     "data": {
      "text/plain": [
       "Place     0\n",
       "Rating    0\n",
       "userId    0\n",
       "dtype: int64"
      ]
     },
     "execution_count": 48,
     "metadata": {},
     "output_type": "execute_result"
    }
   ],
   "source": [
    "data.isna().sum()\n"
   ]
  },
  {
   "cell_type": "code",
   "execution_count": 49,
   "id": "b4a471d9",
   "metadata": {},
   "outputs": [
    {
     "data": {
      "text/plain": [
       "(23224, 3)"
      ]
     },
     "execution_count": 49,
     "metadata": {},
     "output_type": "execute_result"
    }
   ],
   "source": [
    "data.shape"
   ]
  },
  {
   "cell_type": "code",
   "execution_count": 99,
   "id": "63af7290",
   "metadata": {},
   "outputs": [
    {
     "data": {
      "text/plain": [
       "154"
      ]
     },
     "execution_count": 99,
     "metadata": {},
     "output_type": "execute_result"
    }
   ],
   "source": [
    "Place_sum=list(data.Place.unique())\n",
    "len(Place_sum)"
   ]
  },
  {
   "cell_type": "code",
   "execution_count": 53,
   "id": "76e8f09e",
   "metadata": {},
   "outputs": [
    {
     "data": {
      "text/html": [
       "<div>\n",
       "<style scoped>\n",
       "    .dataframe tbody tr th:only-of-type {\n",
       "        vertical-align: middle;\n",
       "    }\n",
       "\n",
       "    .dataframe tbody tr th {\n",
       "        vertical-align: top;\n",
       "    }\n",
       "\n",
       "    .dataframe thead th {\n",
       "        text-align: right;\n",
       "    }\n",
       "</style>\n",
       "<table border=\"1\" class=\"dataframe\">\n",
       "  <thead>\n",
       "    <tr style=\"text-align: right;\">\n",
       "      <th></th>\n",
       "      <th>Place</th>\n",
       "      <th>totalRatingCount</th>\n",
       "    </tr>\n",
       "  </thead>\n",
       "  <tbody>\n",
       "    <tr>\n",
       "      <th>0</th>\n",
       "      <td>19 Degree North</td>\n",
       "      <td>15</td>\n",
       "    </tr>\n",
       "    <tr>\n",
       "      <th>1</th>\n",
       "      <td>AUGUSTIN Studio &amp; Gallery</td>\n",
       "      <td>5</td>\n",
       "    </tr>\n",
       "    <tr>\n",
       "      <th>2</th>\n",
       "      <td>Achirupakkam</td>\n",
       "      <td>1</td>\n",
       "    </tr>\n",
       "    <tr>\n",
       "      <th>3</th>\n",
       "      <td>Adalaj Step-well</td>\n",
       "      <td>1</td>\n",
       "    </tr>\n",
       "    <tr>\n",
       "      <th>4</th>\n",
       "      <td>Adichikkavu Sree Durga Devi Kshetram Temple</td>\n",
       "      <td>5</td>\n",
       "    </tr>\n",
       "  </tbody>\n",
       "</table>\n",
       "</div>"
      ],
      "text/plain": [
       "                                         Place  totalRatingCount\n",
       "0                              19 Degree North                15\n",
       "1                    AUGUSTIN Studio & Gallery                 5\n",
       "2                                 Achirupakkam                 1\n",
       "3                             Adalaj Step-well                 1\n",
       "4  Adichikkavu Sree Durga Devi Kshetram Temple                 5"
      ]
     },
     "execution_count": 53,
     "metadata": {},
     "output_type": "execute_result"
    }
   ],
   "source": [
    "combine_Place_rating = data.dropna(axis=0, subset=['Place'])\n",
    "\n",
    "Place_ratingCount = combine_City_rating.groupby(by=['Place'])['Rating'].count().reset_index().rename(columns={'Rating': 'totalRatingCount'})[['Place', 'totalRatingCount']]\n",
    "\n",
    "Place_ratingCount.head()"
   ]
  },
  {
   "cell_type": "code",
   "execution_count": 54,
   "id": "44cce170",
   "metadata": {},
   "outputs": [
    {
     "data": {
      "text/html": [
       "<div>\n",
       "<style scoped>\n",
       "    .dataframe tbody tr th:only-of-type {\n",
       "        vertical-align: middle;\n",
       "    }\n",
       "\n",
       "    .dataframe tbody tr th {\n",
       "        vertical-align: top;\n",
       "    }\n",
       "\n",
       "    .dataframe thead th {\n",
       "        text-align: right;\n",
       "    }\n",
       "</style>\n",
       "<table border=\"1\" class=\"dataframe\">\n",
       "  <thead>\n",
       "    <tr style=\"text-align: right;\">\n",
       "      <th></th>\n",
       "      <th>Place</th>\n",
       "      <th>Rating</th>\n",
       "      <th>userId</th>\n",
       "    </tr>\n",
       "  </thead>\n",
       "  <tbody>\n",
       "    <tr>\n",
       "      <th>0</th>\n",
       "      <td>19 Degree North</td>\n",
       "      <td>5</td>\n",
       "      <td>1.000</td>\n",
       "    </tr>\n",
       "    <tr>\n",
       "      <th>1</th>\n",
       "      <td>19 Degree North</td>\n",
       "      <td>4</td>\n",
       "      <td>3.000</td>\n",
       "    </tr>\n",
       "    <tr>\n",
       "      <th>2</th>\n",
       "      <td>19 Degree North</td>\n",
       "      <td>5</td>\n",
       "      <td>4.000</td>\n",
       "    </tr>\n",
       "    <tr>\n",
       "      <th>3</th>\n",
       "      <td>19 Degree North</td>\n",
       "      <td>5</td>\n",
       "      <td>5.000</td>\n",
       "    </tr>\n",
       "    <tr>\n",
       "      <th>4</th>\n",
       "      <td>19 Degree North</td>\n",
       "      <td>5</td>\n",
       "      <td>6.000</td>\n",
       "    </tr>\n",
       "    <tr>\n",
       "      <th>...</th>\n",
       "      <td>...</td>\n",
       "      <td>...</td>\n",
       "      <td>...</td>\n",
       "    </tr>\n",
       "    <tr>\n",
       "      <th>23219</th>\n",
       "      <td>Taj Mahal</td>\n",
       "      <td>5</td>\n",
       "      <td>18594.000</td>\n",
       "    </tr>\n",
       "    <tr>\n",
       "      <th>23220</th>\n",
       "      <td>Taj Mahal</td>\n",
       "      <td>4</td>\n",
       "      <td>18595.000</td>\n",
       "    </tr>\n",
       "    <tr>\n",
       "      <th>23221</th>\n",
       "      <td>Taj Mahal</td>\n",
       "      <td>5</td>\n",
       "      <td>18596.000</td>\n",
       "    </tr>\n",
       "    <tr>\n",
       "      <th>23222</th>\n",
       "      <td>Adalaj Step-well</td>\n",
       "      <td>4</td>\n",
       "      <td>1662.000</td>\n",
       "    </tr>\n",
       "    <tr>\n",
       "      <th>23223</th>\n",
       "      <td>Dargah Shariff</td>\n",
       "      <td>4</td>\n",
       "      <td>1575.000</td>\n",
       "    </tr>\n",
       "  </tbody>\n",
       "</table>\n",
       "<p>23224 rows × 3 columns</p>\n",
       "</div>"
      ],
      "text/plain": [
       "                  Place  Rating    userId\n",
       "0       19 Degree North       5     1.000\n",
       "1       19 Degree North       4     3.000\n",
       "2       19 Degree North       5     4.000\n",
       "3       19 Degree North       5     5.000\n",
       "4       19 Degree North       5     6.000\n",
       "...                 ...     ...       ...\n",
       "23219         Taj Mahal       5 18594.000\n",
       "23220         Taj Mahal       4 18595.000\n",
       "23221         Taj Mahal       5 18596.000\n",
       "23222  Adalaj Step-well       4  1662.000\n",
       "23223    Dargah Shariff       4  1575.000\n",
       "\n",
       "[23224 rows x 3 columns]"
      ]
     },
     "execution_count": 54,
     "metadata": {},
     "output_type": "execute_result"
    }
   ],
   "source": [
    "combine_Place_rating"
   ]
  },
  {
   "cell_type": "code",
   "execution_count": 56,
   "id": "ca5b2ee3",
   "metadata": {},
   "outputs": [
    {
     "data": {
      "text/plain": [
       "172914906.0"
      ]
     },
     "execution_count": 56,
     "metadata": {},
     "output_type": "execute_result"
    }
   ],
   "source": [
    "rating_with_totalRatingCount = combine_Place_rating.merge(Place_ratingCount, left_on='Place', right_on='Place', how='left')\n",
    "rating_with_totalRatingCount.userId.unique().sum()"
   ]
  },
  {
   "cell_type": "code",
   "execution_count": 57,
   "id": "f13ab04d",
   "metadata": {},
   "outputs": [
    {
     "name": "stdout",
     "output_type": "stream",
     "text": [
      "count    202.000\n",
      "mean     138.371\n",
      "std      758.223\n",
      "min        1.000\n",
      "25%        4.000\n",
      "50%        9.500\n",
      "75%       41.500\n",
      "max     8570.000\n",
      "Name: totalRatingCount, dtype: float64\n"
     ]
    }
   ],
   "source": [
    "pd.set_option('display.float_format', lambda x: '%.3f' % x)\n",
    "print(Place_ratingCount['totalRatingCount'].describe())"
   ]
  },
  {
   "cell_type": "code",
   "execution_count": 58,
   "id": "f481aaed",
   "metadata": {},
   "outputs": [
    {
     "data": {
      "text/html": [
       "<div>\n",
       "<style scoped>\n",
       "    .dataframe tbody tr th:only-of-type {\n",
       "        vertical-align: middle;\n",
       "    }\n",
       "\n",
       "    .dataframe tbody tr th {\n",
       "        vertical-align: top;\n",
       "    }\n",
       "\n",
       "    .dataframe thead th {\n",
       "        text-align: right;\n",
       "    }\n",
       "</style>\n",
       "<table border=\"1\" class=\"dataframe\">\n",
       "  <thead>\n",
       "    <tr style=\"text-align: right;\">\n",
       "      <th></th>\n",
       "      <th>Place</th>\n",
       "      <th>Rating</th>\n",
       "      <th>userId</th>\n",
       "      <th>totalRatingCount</th>\n",
       "    </tr>\n",
       "  </thead>\n",
       "  <tbody>\n",
       "    <tr>\n",
       "      <th>0</th>\n",
       "      <td>19 Degree North</td>\n",
       "      <td>5</td>\n",
       "      <td>1.000</td>\n",
       "      <td>15</td>\n",
       "    </tr>\n",
       "    <tr>\n",
       "      <th>1</th>\n",
       "      <td>19 Degree North</td>\n",
       "      <td>4</td>\n",
       "      <td>3.000</td>\n",
       "      <td>15</td>\n",
       "    </tr>\n",
       "    <tr>\n",
       "      <th>2</th>\n",
       "      <td>19 Degree North</td>\n",
       "      <td>5</td>\n",
       "      <td>4.000</td>\n",
       "      <td>15</td>\n",
       "    </tr>\n",
       "    <tr>\n",
       "      <th>3</th>\n",
       "      <td>19 Degree North</td>\n",
       "      <td>5</td>\n",
       "      <td>5.000</td>\n",
       "      <td>15</td>\n",
       "    </tr>\n",
       "    <tr>\n",
       "      <th>4</th>\n",
       "      <td>19 Degree North</td>\n",
       "      <td>5</td>\n",
       "      <td>6.000</td>\n",
       "      <td>15</td>\n",
       "    </tr>\n",
       "  </tbody>\n",
       "</table>\n",
       "</div>"
      ],
      "text/plain": [
       "             Place  Rating  userId  totalRatingCount\n",
       "0  19 Degree North       5   1.000                15\n",
       "1  19 Degree North       4   3.000                15\n",
       "2  19 Degree North       5   4.000                15\n",
       "3  19 Degree North       5   5.000                15\n",
       "4  19 Degree North       5   6.000                15"
      ]
     },
     "execution_count": 58,
     "metadata": {},
     "output_type": "execute_result"
    }
   ],
   "source": [
    "popularity_threshold = 10\n",
    "rating_popular_Place = rating_with_totalRatingCount.query('totalRatingCount >= @popularity_threshold')\n",
    "rating_popular_Place.head()"
   ]
  },
  {
   "cell_type": "code",
   "execution_count": 59,
   "id": "0c00d270",
   "metadata": {
    "scrolled": true
   },
   "outputs": [
    {
     "data": {
      "text/plain": [
       "(22888, 4)"
      ]
     },
     "execution_count": 59,
     "metadata": {},
     "output_type": "execute_result"
    }
   ],
   "source": [
    "rating_popular_Place.shape"
   ]
  },
  {
   "cell_type": "code",
   "execution_count": 60,
   "id": "9cecd5bd",
   "metadata": {},
   "outputs": [
    {
     "data": {
      "text/plain": [
       "3.0"
      ]
     },
     "execution_count": 60,
     "metadata": {},
     "output_type": "execute_result"
    }
   ],
   "source": [
    "data[\"userId\"][1]"
   ]
  },
  {
   "cell_type": "code",
   "execution_count": 61,
   "id": "dc364393",
   "metadata": {
    "scrolled": true
   },
   "outputs": [
    {
     "data": {
      "text/html": [
       "<div>\n",
       "<style scoped>\n",
       "    .dataframe tbody tr th:only-of-type {\n",
       "        vertical-align: middle;\n",
       "    }\n",
       "\n",
       "    .dataframe tbody tr th {\n",
       "        vertical-align: top;\n",
       "    }\n",
       "\n",
       "    .dataframe thead th {\n",
       "        text-align: right;\n",
       "    }\n",
       "</style>\n",
       "<table border=\"1\" class=\"dataframe\">\n",
       "  <thead>\n",
       "    <tr style=\"text-align: right;\">\n",
       "      <th>userId</th>\n",
       "      <th>1.000</th>\n",
       "      <th>2.000</th>\n",
       "      <th>3.000</th>\n",
       "      <th>4.000</th>\n",
       "      <th>5.000</th>\n",
       "      <th>6.000</th>\n",
       "      <th>7.000</th>\n",
       "      <th>8.000</th>\n",
       "      <th>9.000</th>\n",
       "      <th>10.000</th>\n",
       "      <th>...</th>\n",
       "      <th>18587.000</th>\n",
       "      <th>18588.000</th>\n",
       "      <th>18589.000</th>\n",
       "      <th>18590.000</th>\n",
       "      <th>18591.000</th>\n",
       "      <th>18592.000</th>\n",
       "      <th>18593.000</th>\n",
       "      <th>18594.000</th>\n",
       "      <th>18595.000</th>\n",
       "      <th>18596.000</th>\n",
       "    </tr>\n",
       "    <tr>\n",
       "      <th>Place</th>\n",
       "      <th></th>\n",
       "      <th></th>\n",
       "      <th></th>\n",
       "      <th></th>\n",
       "      <th></th>\n",
       "      <th></th>\n",
       "      <th></th>\n",
       "      <th></th>\n",
       "      <th></th>\n",
       "      <th></th>\n",
       "      <th></th>\n",
       "      <th></th>\n",
       "      <th></th>\n",
       "      <th></th>\n",
       "      <th></th>\n",
       "      <th></th>\n",
       "      <th></th>\n",
       "      <th></th>\n",
       "      <th></th>\n",
       "      <th></th>\n",
       "      <th></th>\n",
       "    </tr>\n",
       "  </thead>\n",
       "  <tbody>\n",
       "    <tr>\n",
       "      <th>19 Degree North</th>\n",
       "      <td>5.000</td>\n",
       "      <td>0.000</td>\n",
       "      <td>4.000</td>\n",
       "      <td>5.000</td>\n",
       "      <td>5.000</td>\n",
       "      <td>5.000</td>\n",
       "      <td>4.000</td>\n",
       "      <td>3.000</td>\n",
       "      <td>5.000</td>\n",
       "      <td>5.000</td>\n",
       "      <td>...</td>\n",
       "      <td>0.000</td>\n",
       "      <td>0.000</td>\n",
       "      <td>0.000</td>\n",
       "      <td>0.000</td>\n",
       "      <td>0.000</td>\n",
       "      <td>0.000</td>\n",
       "      <td>0.000</td>\n",
       "      <td>0.000</td>\n",
       "      <td>0.000</td>\n",
       "      <td>0.000</td>\n",
       "    </tr>\n",
       "    <tr>\n",
       "      <th>Agonda Beach</th>\n",
       "      <td>4.000</td>\n",
       "      <td>4.000</td>\n",
       "      <td>5.000</td>\n",
       "      <td>5.000</td>\n",
       "      <td>5.000</td>\n",
       "      <td>5.000</td>\n",
       "      <td>5.000</td>\n",
       "      <td>3.000</td>\n",
       "      <td>5.000</td>\n",
       "      <td>4.000</td>\n",
       "      <td>...</td>\n",
       "      <td>0.000</td>\n",
       "      <td>0.000</td>\n",
       "      <td>0.000</td>\n",
       "      <td>0.000</td>\n",
       "      <td>0.000</td>\n",
       "      <td>0.000</td>\n",
       "      <td>0.000</td>\n",
       "      <td>0.000</td>\n",
       "      <td>0.000</td>\n",
       "      <td>0.000</td>\n",
       "    </tr>\n",
       "    <tr>\n",
       "      <th>Agra Art Gallery</th>\n",
       "      <td>5.000</td>\n",
       "      <td>2.000</td>\n",
       "      <td>5.000</td>\n",
       "      <td>5.000</td>\n",
       "      <td>5.000</td>\n",
       "      <td>5.000</td>\n",
       "      <td>5.000</td>\n",
       "      <td>4.000</td>\n",
       "      <td>4.000</td>\n",
       "      <td>3.000</td>\n",
       "      <td>...</td>\n",
       "      <td>0.000</td>\n",
       "      <td>0.000</td>\n",
       "      <td>0.000</td>\n",
       "      <td>0.000</td>\n",
       "      <td>0.000</td>\n",
       "      <td>0.000</td>\n",
       "      <td>0.000</td>\n",
       "      <td>0.000</td>\n",
       "      <td>0.000</td>\n",
       "      <td>0.000</td>\n",
       "    </tr>\n",
       "    <tr>\n",
       "      <th>Agra Fort</th>\n",
       "      <td>0.000</td>\n",
       "      <td>0.000</td>\n",
       "      <td>0.000</td>\n",
       "      <td>0.000</td>\n",
       "      <td>0.000</td>\n",
       "      <td>0.000</td>\n",
       "      <td>0.000</td>\n",
       "      <td>0.000</td>\n",
       "      <td>0.000</td>\n",
       "      <td>0.000</td>\n",
       "      <td>...</td>\n",
       "      <td>0.000</td>\n",
       "      <td>0.000</td>\n",
       "      <td>0.000</td>\n",
       "      <td>0.000</td>\n",
       "      <td>0.000</td>\n",
       "      <td>0.000</td>\n",
       "      <td>0.000</td>\n",
       "      <td>0.000</td>\n",
       "      <td>0.000</td>\n",
       "      <td>0.000</td>\n",
       "    </tr>\n",
       "    <tr>\n",
       "      <th>Aloha Surf India</th>\n",
       "      <td>0.000</td>\n",
       "      <td>0.000</td>\n",
       "      <td>0.000</td>\n",
       "      <td>0.000</td>\n",
       "      <td>0.000</td>\n",
       "      <td>0.000</td>\n",
       "      <td>0.000</td>\n",
       "      <td>0.000</td>\n",
       "      <td>0.000</td>\n",
       "      <td>0.000</td>\n",
       "      <td>...</td>\n",
       "      <td>0.000</td>\n",
       "      <td>0.000</td>\n",
       "      <td>0.000</td>\n",
       "      <td>0.000</td>\n",
       "      <td>0.000</td>\n",
       "      <td>0.000</td>\n",
       "      <td>0.000</td>\n",
       "      <td>0.000</td>\n",
       "      <td>0.000</td>\n",
       "      <td>0.000</td>\n",
       "    </tr>\n",
       "  </tbody>\n",
       "</table>\n",
       "<p>5 rows × 18486 columns</p>\n",
       "</div>"
      ],
      "text/plain": [
       "userId            1.000      2.000      3.000      4.000      5.000      \\\n",
       "Place                                                                     \n",
       "19 Degree North       5.000      0.000      4.000      5.000      5.000   \n",
       "Agonda Beach          4.000      4.000      5.000      5.000      5.000   \n",
       "Agra Art Gallery      5.000      2.000      5.000      5.000      5.000   \n",
       "Agra Fort             0.000      0.000      0.000      0.000      0.000   \n",
       "Aloha Surf India      0.000      0.000      0.000      0.000      0.000   \n",
       "\n",
       "userId            6.000      7.000      8.000      9.000      10.000     ...  \\\n",
       "Place                                                                    ...   \n",
       "19 Degree North       5.000      4.000      3.000      5.000      5.000  ...   \n",
       "Agonda Beach          5.000      5.000      3.000      5.000      4.000  ...   \n",
       "Agra Art Gallery      5.000      5.000      4.000      4.000      3.000  ...   \n",
       "Agra Fort             0.000      0.000      0.000      0.000      0.000  ...   \n",
       "Aloha Surf India      0.000      0.000      0.000      0.000      0.000  ...   \n",
       "\n",
       "userId            18587.000  18588.000  18589.000  18590.000  18591.000  \\\n",
       "Place                                                                     \n",
       "19 Degree North       0.000      0.000      0.000      0.000      0.000   \n",
       "Agonda Beach          0.000      0.000      0.000      0.000      0.000   \n",
       "Agra Art Gallery      0.000      0.000      0.000      0.000      0.000   \n",
       "Agra Fort             0.000      0.000      0.000      0.000      0.000   \n",
       "Aloha Surf India      0.000      0.000      0.000      0.000      0.000   \n",
       "\n",
       "userId            18592.000  18593.000  18594.000  18595.000  18596.000  \n",
       "Place                                                                    \n",
       "19 Degree North       0.000      0.000      0.000      0.000      0.000  \n",
       "Agonda Beach          0.000      0.000      0.000      0.000      0.000  \n",
       "Agra Art Gallery      0.000      0.000      0.000      0.000      0.000  \n",
       "Agra Fort             0.000      0.000      0.000      0.000      0.000  \n",
       "Aloha Surf India      0.000      0.000      0.000      0.000      0.000  \n",
       "\n",
       "[5 rows x 18486 columns]"
      ]
     },
     "execution_count": 61,
     "metadata": {},
     "output_type": "execute_result"
    }
   ],
   "source": [
    "Place_features_df = rating_popular_Place.pivot_table(index='Place', columns='userId', values='Rating').fillna(0)\n",
    "Place_features_df.head()"
   ]
  },
  {
   "cell_type": "code",
   "execution_count": 63,
   "id": "efe809eb",
   "metadata": {},
   "outputs": [
    {
     "data": {
      "text/plain": [
       "(75, 18486)"
      ]
     },
     "execution_count": 63,
     "metadata": {},
     "output_type": "execute_result"
    }
   ],
   "source": [
    "Place_features_df.shape"
   ]
  },
  {
   "cell_type": "code",
   "execution_count": 65,
   "id": "e8f6a5c0",
   "metadata": {},
   "outputs": [],
   "source": [
    "from scipy.sparse import csr_matrix\n",
    "\n",
    "Place_features_df_matrix = csr_matrix(Place_features_df.values)\n"
   ]
  },
  {
   "cell_type": "code",
   "execution_count": 67,
   "id": "e8e13ade",
   "metadata": {},
   "outputs": [
    {
     "name": "stdout",
     "output_type": "stream",
     "text": [
      "userId                       1.000      2.000      3.000      4.000      \\\n",
      "Place                                                                     \n",
      "19 Degree North                  5.000      0.000      4.000      5.000   \n",
      "Agonda Beach                     4.000      4.000      5.000      5.000   \n",
      "Agra Art Gallery                 5.000      2.000      5.000      5.000   \n",
      "Agra Fort                        0.000      0.000      0.000      0.000   \n",
      "Aloha Surf India                 0.000      0.000      0.000      0.000   \n",
      "...                                ...        ...        ...        ...   \n",
      "Tripura Government Museum        0.000      0.000      0.000      0.000   \n",
      "Ujjayanta Palace                 0.000      0.000      0.000      0.000   \n",
      "Unakoti                          0.000      0.000      0.000      0.000   \n",
      "Venuban Vihar Buddha Shrine      0.000      0.000      0.000      0.000   \n",
      "Wayanad Tea Museum               4.000      4.000      5.000      3.000   \n",
      "\n",
      "userId                       5.000      6.000      7.000      8.000      \\\n",
      "Place                                                                     \n",
      "19 Degree North                  5.000      5.000      4.000      3.000   \n",
      "Agonda Beach                     5.000      5.000      5.000      3.000   \n",
      "Agra Art Gallery                 5.000      5.000      5.000      4.000   \n",
      "Agra Fort                        0.000      0.000      0.000      0.000   \n",
      "Aloha Surf India                 0.000      0.000      0.000      0.000   \n",
      "...                                ...        ...        ...        ...   \n",
      "Tripura Government Museum        0.000      0.000      0.000      0.000   \n",
      "Ujjayanta Palace                 0.000      0.000      0.000      0.000   \n",
      "Unakoti                          0.000      0.000      0.000      0.000   \n",
      "Venuban Vihar Buddha Shrine      0.000      0.000      0.000      0.000   \n",
      "Wayanad Tea Museum               5.000      4.000      5.000      4.000   \n",
      "\n",
      "userId                       9.000      10.000     ...  18587.000  18588.000  \\\n",
      "Place                                              ...                         \n",
      "19 Degree North                  5.000      5.000  ...      0.000      0.000   \n",
      "Agonda Beach                     5.000      4.000  ...      0.000      0.000   \n",
      "Agra Art Gallery                 4.000      3.000  ...      0.000      0.000   \n",
      "Agra Fort                        0.000      0.000  ...      0.000      0.000   \n",
      "Aloha Surf India                 0.000      0.000  ...      0.000      0.000   \n",
      "...                                ...        ...  ...        ...        ...   \n",
      "Tripura Government Museum        0.000      0.000  ...      0.000      0.000   \n",
      "Ujjayanta Palace                 0.000      0.000  ...      0.000      0.000   \n",
      "Unakoti                          0.000      0.000  ...      0.000      0.000   \n",
      "Venuban Vihar Buddha Shrine      0.000      0.000  ...      0.000      0.000   \n",
      "Wayanad Tea Museum               4.000      4.000  ...      0.000      0.000   \n",
      "\n",
      "userId                       18589.000  18590.000  18591.000  18592.000  \\\n",
      "Place                                                                     \n",
      "19 Degree North                  0.000      0.000      0.000      0.000   \n",
      "Agonda Beach                     0.000      0.000      0.000      0.000   \n",
      "Agra Art Gallery                 0.000      0.000      0.000      0.000   \n",
      "Agra Fort                        0.000      0.000      0.000      0.000   \n",
      "Aloha Surf India                 0.000      0.000      0.000      0.000   \n",
      "...                                ...        ...        ...        ...   \n",
      "Tripura Government Museum        0.000      0.000      0.000      0.000   \n",
      "Ujjayanta Palace                 0.000      0.000      0.000      0.000   \n",
      "Unakoti                          0.000      0.000      0.000      0.000   \n",
      "Venuban Vihar Buddha Shrine      0.000      0.000      0.000      0.000   \n",
      "Wayanad Tea Museum               0.000      0.000      0.000      0.000   \n",
      "\n",
      "userId                       18593.000  18594.000  18595.000  18596.000  \n",
      "Place                                                                    \n",
      "19 Degree North                  0.000      0.000      0.000      0.000  \n",
      "Agonda Beach                     0.000      0.000      0.000      0.000  \n",
      "Agra Art Gallery                 0.000      0.000      0.000      0.000  \n",
      "Agra Fort                        0.000      0.000      0.000      0.000  \n",
      "Aloha Surf India                 0.000      0.000      0.000      0.000  \n",
      "...                                ...        ...        ...        ...  \n",
      "Tripura Government Museum        0.000      0.000      0.000      0.000  \n",
      "Ujjayanta Palace                 0.000      0.000      0.000      0.000  \n",
      "Unakoti                          0.000      0.000      0.000      0.000  \n",
      "Venuban Vihar Buddha Shrine      0.000      0.000      0.000      0.000  \n",
      "Wayanad Tea Museum               0.000      0.000      0.000      0.000  \n",
      "\n",
      "[75 rows x 18486 columns]\n",
      "(75, 18486)\n"
     ]
    }
   ],
   "source": [
    "print(Place_features_df)\n",
    "print(Place_features_df.shape)\n"
   ]
  },
  {
   "cell_type": "code",
   "execution_count": 69,
   "id": "1bc38858",
   "metadata": {},
   "outputs": [
    {
     "data": {
      "text/plain": [
       "userId\n",
       "1.000        0\n",
       "2.000        0\n",
       "3.000        0\n",
       "4.000        0\n",
       "5.000        0\n",
       "            ..\n",
       "18592.000    0\n",
       "18593.000    0\n",
       "18594.000    0\n",
       "18595.000    0\n",
       "18596.000    0\n",
       "Length: 18486, dtype: int64"
      ]
     },
     "execution_count": 69,
     "metadata": {},
     "output_type": "execute_result"
    }
   ],
   "source": [
    "Place_features_df.isna().sum()\n"
   ]
  },
  {
   "cell_type": "code",
   "execution_count": 71,
   "id": "3526f225",
   "metadata": {},
   "outputs": [
    {
     "data": {
      "text/plain": [
       "NearestNeighbors(algorithm='brute', metric='cosine')"
      ]
     },
     "execution_count": 71,
     "metadata": {},
     "output_type": "execute_result"
    }
   ],
   "source": [
    "\n",
    "model_knn = NearestNeighbors(metric='cosine', algorithm='brute')\n",
    "model_knn.fit(Place_features_df_matrix)"
   ]
  },
  {
   "cell_type": "code",
   "execution_count": 83,
   "id": "96a5483d",
   "metadata": {},
   "outputs": [
    {
     "name": "stdout",
     "output_type": "stream",
     "text": [
      "Available Place:\n",
      "1: 19 Degree North\n",
      "2: Agonda Beach\n",
      "3: Agra Art Gallery\n",
      "4: Agra Fort\n",
      "5: Aloha Surf India\n",
      "6: Anguri Bagh\n",
      "7: Animal Shelter Agonda\n",
      "8: Basar Saraswati Temple\n",
      "9: Bio Veda Ayurvedic Beach Resort Spa\n",
      "10: Chand Baori (Step well)\n",
      "11: Chapoli Dam\n",
      "12: Chini Ka Rauza\n",
      "13: Chini Ka Rauza Mausoleum\n",
      "14: Dargah Shariff\n",
      "15: Dayal Bagh\n",
      "16: Diwan-i-Am Agra Fort\n",
      "17: Dolphin The Water World\n",
      "18: Fluidsymmetry\n",
      "19: Fourteen Goddess Temple\n",
      "20: Galgibaga Beach\n",
      "21: Gurudwara Guru ka Tal\n",
      "22: Harshat Mata Temple\n",
      "23: Heritage Park\n",
      "24: Indian Spices & Herbal Garden\n",
      "25: Island of Thinnakara\n",
      "26: Jagannath Temple\n",
      "27: Jahangir Mahal\n",
      "28: Jama Masjid\n",
      "29: Jampui Hill\n",
      "30: Jawab Masjid\n",
      "31: Kadam Dam\n",
      "32: Kalakriti Cultural & Convention Center\n",
      "33: Kalyan Sagar Lake\n",
      "34: Kamaleswari Temple\n",
      "35: Kawal Wildlife Sanctuary\n",
      "36: Keetham Lake\n",
      "37: Korai Village Agra\n",
      "38: Krishna Ayurveda Massage Centre\n",
      "39: Kuntala Waterfall\n",
      "40: Lakshadweep Tour Package - Day Tours\n",
      "41: Mariam's Tomb\n",
      "42: Mehtab Bagh\n",
      "43: Mother Teresa's Missionaries of Charity\n",
      "44: Motilal Nehru Park\n",
      "45: Moto Sport Park\n",
      "46: Mughal Heritage Walk\n",
      "47: National Chambal Sanctuary NCS\n",
      "48: Neermahal Palace\n",
      "49: New Nice Marble Art & Handicrafts\n",
      "50: Old tampale is agra Rajewar madir\n",
      "51: Om Ayurvedic Massage Center\n",
      "52: Pochera Waterfalls\n",
      "53: Ram Bagh\n",
      "54: Rawli Maharaj Temple\n",
      "55: Rock Formations\n",
      "56: Rose Valley Amusement Park\n",
      "57: Rudrasagar Lake\n",
      "58: Saint Anna Taxi and Tours\n",
      "59: Sepahijala Wild Life Sanctuary\n",
      "60: Shah Burj\n",
      "61: Shahin Arts\n",
      "62: Sheesh Mahal\n",
      "63: Shri Mankameshwar Mandir\n",
      "64: Sipahijala Wildlife Sanctuary\n",
      "65: Soami Bagh\n",
      "66: Somaiya Kala Vidya\n",
      "67: Spiritual Museum\n",
      "68: St. George's Cathedral\n",
      "69: Sur Sarovar Bird Sanctuary\n",
      "70: Taj Mahal\n",
      "71: Tripura Government Museum\n",
      "72: Ujjayanta Palace\n",
      "73: Unakoti\n",
      "74: Venuban Vihar Buddha Shrine\n",
      "75: Wayanad Tea Museum\n",
      "\n",
      "Select a Place (enter a number from 1 to 75): 6\n",
      "\n",
      "You selected: Anguri Bagh\n",
      "\n",
      "Recommendations for Anguri Bagh:\n",
      "\n",
      "1: Ram Bagh\n",
      "2: Om Ayurvedic Massage Center\n",
      "3: Pochera Waterfalls\n",
      "4: New Nice Marble Art & Handicrafts\n",
      "5: Rawli Maharaj Temple\n"
     ]
    }
   ],
   "source": [
    "\n",
    "available_Place = list(Place_features_df.index)\n",
    "print(\"Available Place:\")\n",
    "\n",
    "for i, Place in enumerate(available_Place):\n",
    "    print(\"{0}: {1}\".format(i+1, Place))\n",
    "\n",
    "\n",
    "selected_Place_index = int(input(\"\\nSelect a Place (enter a number from 1 to {0}): \".format(len(available_Place))))\n",
    "\n",
    "\n",
    "selected_Place_name = available_Place[selected_Place_index - 1]\n",
    "\n",
    "\n",
    "print(\"\\nYou selected: {0}\\n\".format(selected_Place_name))\n",
    "\n",
    "\n",
    "query_index = Place_features_df.index.get_loc(selected_Place_name)\n",
    "distances, indices = model_knn.kneighbors(Place_features_df.iloc[query_index, :].values.reshape(1, -1), n_neighbors=6)\n",
    "\n",
    "\n",
    "for i in range(0, len(distances.flatten())):\n",
    "    if i == 0:\n",
    "        print('Recommendations for {0}:\\n'.format(selected_Place_name))\n",
    "    else:\n",
    "        print('{0}: {1}'.format(i, Place_features_df.index[indices.flatten()[i]]))\n"
   ]
  },
  {
   "cell_type": "code",
   "execution_count": null,
   "id": "9c3765c7",
   "metadata": {},
   "outputs": [],
   "source": []
  }
 ],
 "metadata": {
  "kernelspec": {
   "display_name": "Python 3 (ipykernel)",
   "language": "python",
   "name": "python3"
  },
  "language_info": {
   "codemirror_mode": {
    "name": "ipython",
    "version": 3
   },
   "file_extension": ".py",
   "mimetype": "text/x-python",
   "name": "python",
   "nbconvert_exporter": "python",
   "pygments_lexer": "ipython3",
   "version": "3.9.13"
  }
 },
 "nbformat": 4,
 "nbformat_minor": 5
}
